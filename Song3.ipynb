{
 "cells": [
  {
   "cell_type": "code",
   "execution_count": 2,
   "metadata": {
    "collapsed": true
   },
   "outputs": [],
   "source": [
    "import pandas as pd\n",
    "import numpy as np\n",
    "import warnings"
   ]
  },
  {
   "cell_type": "code",
   "execution_count": 3,
   "metadata": {
    "collapsed": true
   },
   "outputs": [],
   "source": [
    "warnings.filterwarnings('ignore')"
   ]
  },
  {
   "cell_type": "code",
   "execution_count": 57,
   "metadata": {
    "scrolled": true
   },
   "outputs": [],
   "source": [
    "# From TPD\n",
    "tracks = pd.read_csv('track.csv',sep=';', error_bad_lines=False)\n",
    "lastfm_rating = pd.read_csv('lastfm_rating.csv', sep=';')\n",
    "billboard_rating = pd.read_csv('billboard_rating.csv',sep=';')\n",
    "spotify_rating = pd.read_csv('spotify_rating.csv',sep=';')\n",
    "artist_track = pd.read_csv('artist_track.csv',sep=';')\n",
    "artists = pd.read_csv('artist.csv',sep=';')\n",
    "\n",
    "# From Hot100\n",
    "hot100 = pd.read_csv('Hot100.csv')\n",
    "hot100_complete = pd.read_csv('hot100_complete_withcount.csv')\n",
    "hot5870_sum = pd.read_csv('hot5870_sum.csv')\n",
    "hot5870_withcount = pd.read_csv('hot5870_withcount.csv')\n",
    "hot5870_playcount = pd.read_csv('hot5870_playcount.csv'); \n",
    "\n",
    "# From fma_metadata\n",
    "echonest = pd.read_csv('echonest.csv',error_bad_lines=False)\n",
    "genres = pd.read_csv('genres.csv',error_bad_lines=False)\n"
   ]
  },
  {
   "cell_type": "code",
   "execution_count": 4,
   "metadata": {
    "collapsed": true
   },
   "outputs": [],
   "source": [
    "tracks_tmp = tracks[['id', 'title', 'release_date']]\n",
    "tracks_tmp = tracks_tmp[tracks_tmp['release_date']<'1970-01-01'] \n",
    "tracks_tmp.columns = ['id', 'title', 'release_date']\n"
   ]
  },
  {
   "cell_type": "code",
   "execution_count": 5,
   "metadata": {
    "collapsed": true
   },
   "outputs": [],
   "source": [
    "lastfm_rating_tmp = lastfm_rating[['id', 'date', 'position']]\n",
    "lastfm_rating_tmp.columns = ['id', 'date_lastfm', 'position_lastfm']"
   ]
  },
  {
   "cell_type": "code",
   "execution_count": 6,
   "metadata": {
    "collapsed": true
   },
   "outputs": [],
   "source": [
    "billboard_rating_tmp = billboard_rating[['id', 'date', 'position']]\n",
    "billboard_rating_tmp.columns = ['id', 'date_billboard', 'position_billboard']"
   ]
  },
  {
   "cell_type": "code",
   "execution_count": 7,
   "metadata": {
    "collapsed": true
   },
   "outputs": [],
   "source": [
    "spotify_rating_tmp = spotify_rating[['id', 'date', 'position']]\n",
    "spotify_rating_tmp.columns = ['id', 'date_spotify', 'position_spotify']"
   ]
  },
  {
   "cell_type": "code",
   "execution_count": 8,
   "metadata": {
    "collapsed": true
   },
   "outputs": [],
   "source": [
    "Final = pd.merge(pd.merge(pd.merge(tracks_tmp,lastfm_rating_tmp,on='id'),billboard_rating_tmp,on='id'),spotify_rating_tmp,on='id').head()"
   ]
  },
  {
   "cell_type": "code",
   "execution_count": 9,
   "metadata": {},
   "outputs": [
    {
     "data": {
      "text/plain": [
       "(1267, 5)"
      ]
     },
     "execution_count": 9,
     "metadata": {},
     "output_type": "execute_result"
    }
   ],
   "source": [
    "Final_lastfm = pd.merge(tracks_tmp,lastfm_rating_tmp,on='id')\n",
    "Final_lastfm.shape"
   ]
  },
  {
   "cell_type": "code",
   "execution_count": 10,
   "metadata": {},
   "outputs": [
    {
     "data": {
      "text/plain": [
       "(1267, 5)"
      ]
     },
     "execution_count": 10,
     "metadata": {},
     "output_type": "execute_result"
    }
   ],
   "source": [
    "Final_billboard = pd.merge(tracks_tmp,billboard_rating_tmp,on='id')\n",
    "Final_billboard.shape"
   ]
  },
  {
   "cell_type": "code",
   "execution_count": 11,
   "metadata": {},
   "outputs": [
    {
     "data": {
      "text/plain": [
       "(842, 5)"
      ]
     },
     "execution_count": 11,
     "metadata": {},
     "output_type": "execute_result"
    }
   ],
   "source": [
    "Final_spotify = pd.merge(tracks_tmp,spotify_rating_tmp,on='id')\n",
    "Final_spotify.shape"
   ]
  },
  {
   "cell_type": "code",
   "execution_count": 12,
   "metadata": {},
   "outputs": [
    {
     "data": {
      "text/plain": [
       "(6500, 5)"
      ]
     },
     "execution_count": 12,
     "metadata": {},
     "output_type": "execute_result"
    }
   ],
   "source": [
    "Final_spotify_lastfm = pd.merge(lastfm_rating_tmp,spotify_rating_tmp,on='id')\n",
    "Final_spotify_lastfm.shape"
   ]
  },
  {
   "cell_type": "code",
   "execution_count": 13,
   "metadata": {},
   "outputs": [
    {
     "data": {
      "text/plain": [
       "(0, 5)"
      ]
     },
     "execution_count": 13,
     "metadata": {},
     "output_type": "execute_result"
    }
   ],
   "source": [
    "AA = spotify_rating[spotify_rating['date']<'1970-01-01']\n",
    "AA.shape"
   ]
  },
  {
   "cell_type": "code",
   "execution_count": 14,
   "metadata": {},
   "outputs": [
    {
     "data": {
      "text/plain": [
       "(0, 4)"
      ]
     },
     "execution_count": 14,
     "metadata": {},
     "output_type": "execute_result"
    }
   ],
   "source": [
    "BB = billboard_rating[billboard_rating['date']<'1970-01-01']\n",
    "BB.shape"
   ]
  },
  {
   "cell_type": "markdown",
   "metadata": {
    "collapsed": true
   },
   "source": [
    "### Investigating Hot100"
   ]
  },
  {
   "cell_type": "code",
   "execution_count": 15,
   "metadata": {},
   "outputs": [
    {
     "name": "stdout",
     "output_type": "stream",
     "text": [
      "hot100complete :  Index(['song', 'artist', 'sum', 'count'], dtype='object')\n",
      "hot5870 :  Index(['song', 'artist', 'position'], dtype='object')\n",
      "hot5870_withcount :  Index(['song', 'artist', 'sum', 'count'], dtype='object')\n"
     ]
    }
   ],
   "source": [
    "print(\"hot100complete : \",hot100_complete.columns)\n",
    "print(\"hot5870 : \",hot5870_sum .columns)\n",
    "print(\"hot5870_withcount : \",hot5870_withcount.columns)"
   ]
  },
  {
   "cell_type": "code",
   "execution_count": 16,
   "metadata": {},
   "outputs": [
    {
     "name": "stdout",
     "output_type": "stream",
     "text": [
      "hot100complete shape :  (27142, 4)\n",
      "tracks shape :  (23385, 5)\n"
     ]
    }
   ],
   "source": [
    "print(\"hot100complete shape : \",hot100_complete.shape)\n",
    "print(\"tracks shape : \",tracks.shape)"
   ]
  },
  {
   "cell_type": "code",
   "execution_count": 17,
   "metadata": {
    "collapsed": true
   },
   "outputs": [],
   "source": [
    "# rename columns\n",
    "tracks.columns = ['track_id', 'song', 'release_date', 'lastfm_playcount', 'lastfm_listeners']\n",
    "artists.columns = ['artist_id', 'artist', 'image_url']"
   ]
  },
  {
   "cell_type": "code",
   "execution_count": 18,
   "metadata": {
    "collapsed": true
   },
   "outputs": [],
   "source": [
    "# inner join to get artist_id for each track\n",
    "tmp_tracks = pd.merge(tracks[['track_id','song','release_date','lastfm_playcount', 'lastfm_listeners']],artist_track,how='inner',on=['track_id'])"
   ]
  },
  {
   "cell_type": "code",
   "execution_count": 19,
   "metadata": {},
   "outputs": [
    {
     "data": {
      "text/plain": [
       "(23385, 6)"
      ]
     },
     "execution_count": 19,
     "metadata": {},
     "output_type": "execute_result"
    }
   ],
   "source": [
    "tmp_tracks.shape"
   ]
  },
  {
   "cell_type": "code",
   "execution_count": 20,
   "metadata": {
    "collapsed": true
   },
   "outputs": [],
   "source": [
    "# inner join to get artistname of each track\n",
    "new_tracks = pd.merge(tmp_tracks[['track_id','song','artist_id','release_date','lastfm_playcount', 'lastfm_listeners']],artists[['artist_id','artist']],how='inner',on=['artist_id'])"
   ]
  },
  {
   "cell_type": "code",
   "execution_count": 21,
   "metadata": {},
   "outputs": [
    {
     "data": {
      "text/plain": [
       "(23385, 7)"
      ]
     },
     "execution_count": 21,
     "metadata": {},
     "output_type": "execute_result"
    }
   ],
   "source": [
    "new_tracks.shape"
   ]
  },
  {
   "cell_type": "code",
   "execution_count": 22,
   "metadata": {},
   "outputs": [
    {
     "data": {
      "text/html": [
       "<div>\n",
       "<style>\n",
       "    .dataframe thead tr:only-child th {\n",
       "        text-align: right;\n",
       "    }\n",
       "\n",
       "    .dataframe thead th {\n",
       "        text-align: left;\n",
       "    }\n",
       "\n",
       "    .dataframe tbody tr th {\n",
       "        vertical-align: top;\n",
       "    }\n",
       "</style>\n",
       "<table border=\"1\" class=\"dataframe\">\n",
       "  <thead>\n",
       "    <tr style=\"text-align: right;\">\n",
       "      <th></th>\n",
       "      <th>track_id</th>\n",
       "      <th>song</th>\n",
       "      <th>artist_id</th>\n",
       "      <th>release_date</th>\n",
       "      <th>lastfm_playcount</th>\n",
       "      <th>lastfm_listeners</th>\n",
       "      <th>artist</th>\n",
       "    </tr>\n",
       "  </thead>\n",
       "  <tbody>\n",
       "    <tr>\n",
       "      <th>0</th>\n",
       "      <td>1</td>\n",
       "      <td>Uptown Funk!</td>\n",
       "      <td>1</td>\n",
       "      <td>2014-11-10 00:00:00</td>\n",
       "      <td>0</td>\n",
       "      <td>0</td>\n",
       "      <td>Mark Ronson Featuring Bruno Mars</td>\n",
       "    </tr>\n",
       "    <tr>\n",
       "      <th>1</th>\n",
       "      <td>2</td>\n",
       "      <td>Blank Space</td>\n",
       "      <td>2</td>\n",
       "      <td>2014-10-27 00:00:00</td>\n",
       "      <td>1822265</td>\n",
       "      <td>92902</td>\n",
       "      <td>Taylor Swift</td>\n",
       "    </tr>\n",
       "    <tr>\n",
       "      <th>2</th>\n",
       "      <td>9</td>\n",
       "      <td>Shake It Off</td>\n",
       "      <td>2</td>\n",
       "      <td>2014-08-18 00:00:00</td>\n",
       "      <td>2479013</td>\n",
       "      <td>193297</td>\n",
       "      <td>Taylor Swift</td>\n",
       "    </tr>\n",
       "    <tr>\n",
       "      <th>3</th>\n",
       "      <td>72</td>\n",
       "      <td>Style</td>\n",
       "      <td>2</td>\n",
       "      <td>2014-10-27 00:00:00</td>\n",
       "      <td>1110899</td>\n",
       "      <td>63974</td>\n",
       "      <td>Taylor Swift</td>\n",
       "    </tr>\n",
       "    <tr>\n",
       "      <th>4</th>\n",
       "      <td>113</td>\n",
       "      <td>Bad Blood</td>\n",
       "      <td>2</td>\n",
       "      <td>2014-10-27 00:00:00</td>\n",
       "      <td>650377</td>\n",
       "      <td>54756</td>\n",
       "      <td>Taylor Swift</td>\n",
       "    </tr>\n",
       "    <tr>\n",
       "      <th>5</th>\n",
       "      <td>187</td>\n",
       "      <td>Welcome To New York</td>\n",
       "      <td>2</td>\n",
       "      <td>2014-10-27 00:00:00</td>\n",
       "      <td>660411</td>\n",
       "      <td>57373</td>\n",
       "      <td>Taylor Swift</td>\n",
       "    </tr>\n",
       "    <tr>\n",
       "      <th>6</th>\n",
       "      <td>189</td>\n",
       "      <td>Wildest Dreams</td>\n",
       "      <td>2</td>\n",
       "      <td>2014-10-27 00:00:00</td>\n",
       "      <td>657658</td>\n",
       "      <td>53726</td>\n",
       "      <td>Taylor Swift</td>\n",
       "    </tr>\n",
       "    <tr>\n",
       "      <th>7</th>\n",
       "      <td>194</td>\n",
       "      <td>Out Of The Woods</td>\n",
       "      <td>2</td>\n",
       "      <td>2002-02-02 00:00:00</td>\n",
       "      <td>1070115</td>\n",
       "      <td>60681</td>\n",
       "      <td>Taylor Swift</td>\n",
       "    </tr>\n",
       "    <tr>\n",
       "      <th>8</th>\n",
       "      <td>537</td>\n",
       "      <td>Red</td>\n",
       "      <td>2</td>\n",
       "      <td>2012-10-22 00:00:00</td>\n",
       "      <td>0</td>\n",
       "      <td>0</td>\n",
       "      <td>Taylor Swift</td>\n",
       "    </tr>\n",
       "    <tr>\n",
       "      <th>9</th>\n",
       "      <td>581</td>\n",
       "      <td>Sweeter Than Fiction</td>\n",
       "      <td>2</td>\n",
       "      <td>2013-10-21 00:00:00</td>\n",
       "      <td>0</td>\n",
       "      <td>0</td>\n",
       "      <td>Taylor Swift</td>\n",
       "    </tr>\n",
       "  </tbody>\n",
       "</table>\n",
       "</div>"
      ],
      "text/plain": [
       "   track_id                  song  artist_id         release_date  \\\n",
       "0         1          Uptown Funk!          1  2014-11-10 00:00:00   \n",
       "1         2           Blank Space          2  2014-10-27 00:00:00   \n",
       "2         9          Shake It Off          2  2014-08-18 00:00:00   \n",
       "3        72                 Style          2  2014-10-27 00:00:00   \n",
       "4       113             Bad Blood          2  2014-10-27 00:00:00   \n",
       "5       187   Welcome To New York          2  2014-10-27 00:00:00   \n",
       "6       189        Wildest Dreams          2  2014-10-27 00:00:00   \n",
       "7       194      Out Of The Woods          2  2002-02-02 00:00:00   \n",
       "8       537                   Red          2  2012-10-22 00:00:00   \n",
       "9       581  Sweeter Than Fiction          2  2013-10-21 00:00:00   \n",
       "\n",
       "   lastfm_playcount  lastfm_listeners                            artist  \n",
       "0                 0                 0  Mark Ronson Featuring Bruno Mars  \n",
       "1           1822265             92902                      Taylor Swift  \n",
       "2           2479013            193297                      Taylor Swift  \n",
       "3           1110899             63974                      Taylor Swift  \n",
       "4            650377             54756                      Taylor Swift  \n",
       "5            660411             57373                      Taylor Swift  \n",
       "6            657658             53726                      Taylor Swift  \n",
       "7           1070115             60681                      Taylor Swift  \n",
       "8                 0                 0                      Taylor Swift  \n",
       "9                 0                 0                      Taylor Swift  "
      ]
     },
     "execution_count": 22,
     "metadata": {},
     "output_type": "execute_result"
    }
   ],
   "source": [
    "new_tracks.head(10)"
   ]
  },
  {
   "cell_type": "code",
   "execution_count": 23,
   "metadata": {
    "collapsed": true,
    "scrolled": true
   },
   "outputs": [],
   "source": [
    "# inner join hot100 with tracks to get information of songs which came up in tracks\n",
    "hot100_Tracks = pd.merge(new_tracks[['song','artist','release_date','lastfm_playcount', 'lastfm_listeners']],hot100_complete,how='inner',on=['song','artist'])"
   ]
  },
  {
   "cell_type": "code",
   "execution_count": 24,
   "metadata": {},
   "outputs": [
    {
     "data": {
      "text/plain": [
       "(4856, 7)"
      ]
     },
     "execution_count": 24,
     "metadata": {},
     "output_type": "execute_result"
    }
   ],
   "source": [
    "hot100_Tracks.shape"
   ]
  },
  {
   "cell_type": "code",
   "execution_count": 25,
   "metadata": {},
   "outputs": [
    {
     "data": {
      "text/html": [
       "<div>\n",
       "<style>\n",
       "    .dataframe thead tr:only-child th {\n",
       "        text-align: right;\n",
       "    }\n",
       "\n",
       "    .dataframe thead th {\n",
       "        text-align: left;\n",
       "    }\n",
       "\n",
       "    .dataframe tbody tr th {\n",
       "        vertical-align: top;\n",
       "    }\n",
       "</style>\n",
       "<table border=\"1\" class=\"dataframe\">\n",
       "  <thead>\n",
       "    <tr style=\"text-align: right;\">\n",
       "      <th></th>\n",
       "      <th>song</th>\n",
       "      <th>artist</th>\n",
       "      <th>release_date</th>\n",
       "      <th>lastfm_playcount</th>\n",
       "      <th>lastfm_listeners</th>\n",
       "      <th>sum</th>\n",
       "      <th>count</th>\n",
       "    </tr>\n",
       "  </thead>\n",
       "  <tbody>\n",
       "    <tr>\n",
       "      <th>0</th>\n",
       "      <td>Uptown Funk!</td>\n",
       "      <td>Mark Ronson Featuring Bruno Mars</td>\n",
       "      <td>2014-11-10 00:00:00</td>\n",
       "      <td>0</td>\n",
       "      <td>0</td>\n",
       "      <td>650</td>\n",
       "      <td>54</td>\n",
       "    </tr>\n",
       "    <tr>\n",
       "      <th>1</th>\n",
       "      <td>Blank Space</td>\n",
       "      <td>Taylor Swift</td>\n",
       "      <td>2014-10-27 00:00:00</td>\n",
       "      <td>1822265</td>\n",
       "      <td>92902</td>\n",
       "      <td>572</td>\n",
       "      <td>36</td>\n",
       "    </tr>\n",
       "    <tr>\n",
       "      <th>2</th>\n",
       "      <td>Shake It Off</td>\n",
       "      <td>Taylor Swift</td>\n",
       "      <td>2014-08-18 00:00:00</td>\n",
       "      <td>2479013</td>\n",
       "      <td>193297</td>\n",
       "      <td>948</td>\n",
       "      <td>50</td>\n",
       "    </tr>\n",
       "    <tr>\n",
       "      <th>3</th>\n",
       "      <td>Style</td>\n",
       "      <td>Taylor Swift</td>\n",
       "      <td>2014-10-27 00:00:00</td>\n",
       "      <td>1110899</td>\n",
       "      <td>63974</td>\n",
       "      <td>982</td>\n",
       "      <td>32</td>\n",
       "    </tr>\n",
       "    <tr>\n",
       "      <th>4</th>\n",
       "      <td>Bad Blood</td>\n",
       "      <td>Taylor Swift</td>\n",
       "      <td>2014-10-27 00:00:00</td>\n",
       "      <td>650377</td>\n",
       "      <td>54756</td>\n",
       "      <td>158</td>\n",
       "      <td>2</td>\n",
       "    </tr>\n",
       "  </tbody>\n",
       "</table>\n",
       "</div>"
      ],
      "text/plain": [
       "           song                            artist         release_date  \\\n",
       "0  Uptown Funk!  Mark Ronson Featuring Bruno Mars  2014-11-10 00:00:00   \n",
       "1   Blank Space                      Taylor Swift  2014-10-27 00:00:00   \n",
       "2  Shake It Off                      Taylor Swift  2014-08-18 00:00:00   \n",
       "3         Style                      Taylor Swift  2014-10-27 00:00:00   \n",
       "4     Bad Blood                      Taylor Swift  2014-10-27 00:00:00   \n",
       "\n",
       "   lastfm_playcount  lastfm_listeners  sum  count  \n",
       "0                 0                 0  650     54  \n",
       "1           1822265             92902  572     36  \n",
       "2           2479013            193297  948     50  \n",
       "3           1110899             63974  982     32  \n",
       "4            650377             54756  158      2  "
      ]
     },
     "execution_count": 25,
     "metadata": {},
     "output_type": "execute_result"
    }
   ],
   "source": [
    "hot100_Tracks.head()"
   ]
  },
  {
   "cell_type": "code",
   "execution_count": 68,
   "metadata": {
    "collapsed": true,
    "scrolled": true
   },
   "outputs": [],
   "source": [
    "# Extracting artist_hotttnesss\n",
    "echonest = pd.read_csv('echonest.csv',error_bad_lines=False)\n",
    "echonest_tmp = echonest\n",
    "echonest_tmp.columns = echonest_tmp.iloc[1]\n",
    "echonest_tmp = echonest_tmp.reindex(echonest_tmp.index.drop(0))\n",
    "echonest_tmp = echonest_tmp.reindex(echonest_tmp.index.drop(1))\n",
    "echonest_tmp = echonest_tmp.reindex(echonest_tmp.index.drop(2))\n",
    "#echonest_tmp = echonest_tmp.drop_duplicates('artist_name')\n",
    "echonest_artist_hotttnesss = echonest_tmp[['artist_name','artist_hotttnesss']]"
   ]
  },
  {
   "cell_type": "code",
   "execution_count": 27,
   "metadata": {},
   "outputs": [
    {
     "name": "stdout",
     "output_type": "stream",
     "text": [
      "(13129, 2)\n",
      "(4856, 7)\n"
     ]
    }
   ],
   "source": [
    "print(echonest_artist_hotttnesss.shape)\n",
    "print(hot100_Tracks.shape)"
   ]
  },
  {
   "cell_type": "code",
   "execution_count": 28,
   "metadata": {},
   "outputs": [
    {
     "data": {
      "text/plain": [
       "(16, 8)"
      ]
     },
     "execution_count": 28,
     "metadata": {},
     "output_type": "execute_result"
    }
   ],
   "source": [
    "echonest_artist_hotttnesss.columns = ['artist','artist_hotttnesss']\n",
    "test = hot100_Tracks\n",
    "test2 = pd.merge(test,echonest_artist_hotttnesss,how='inner',on=['artist'])\n",
    "test2.shape"
   ]
  },
  {
   "cell_type": "markdown",
   "metadata": {
    "collapsed": true
   },
   "source": [
    "### Scoring the songs"
   ]
  },
  {
   "cell_type": "code",
   "execution_count": 29,
   "metadata": {
    "collapsed": true
   },
   "outputs": [],
   "source": [
    "hot100 = pd.read_csv('Hot100.csv')"
   ]
  },
  {
   "cell_type": "code",
   "execution_count": 50,
   "metadata": {
    "collapsed": true,
    "scrolled": true
   },
   "outputs": [],
   "source": [
    "hot100 = hot100.assign(weighted_position = ( hot100['position'] * (101 -hot100['position'])) )"
   ]
  },
  {
   "cell_type": "code",
   "execution_count": 52,
   "metadata": {
    "collapsed": true
   },
   "outputs": [],
   "source": [
    "hot100['date'] = pd.to_datetime(hot100['date'], errors = 'coerce') "
   ]
  },
  {
   "cell_type": "code",
   "execution_count": 55,
   "metadata": {
    "collapsed": true
   },
   "outputs": [],
   "source": [
    "hot58_70 = hot100[(hot100['date'] > '1958-01-01') & (hot100['date'] < '1970-12-31')]"
   ]
  },
  {
   "cell_type": "code",
   "execution_count": 35,
   "metadata": {
    "collapsed": true
   },
   "outputs": [],
   "source": [
    "dd = hot100.groupby(['song','artist'])['weighted_position'].agg(['sum','count']).reset_index()"
   ]
  },
  {
   "cell_type": "code",
   "execution_count": 56,
   "metadata": {},
   "outputs": [
    {
     "data": {
      "text/html": [
       "<div>\n",
       "<style>\n",
       "    .dataframe thead tr:only-child th {\n",
       "        text-align: right;\n",
       "    }\n",
       "\n",
       "    .dataframe thead th {\n",
       "        text-align: left;\n",
       "    }\n",
       "\n",
       "    .dataframe tbody tr th {\n",
       "        vertical-align: top;\n",
       "    }\n",
       "</style>\n",
       "<table border=\"1\" class=\"dataframe\">\n",
       "  <thead>\n",
       "    <tr style=\"text-align: right;\">\n",
       "      <th></th>\n",
       "      <th>date</th>\n",
       "      <th>position</th>\n",
       "      <th>song</th>\n",
       "      <th>artist</th>\n",
       "      <th>weighted_position</th>\n",
       "    </tr>\n",
       "  </thead>\n",
       "  <tbody>\n",
       "    <tr>\n",
       "      <th>0</th>\n",
       "      <td>1958-08-09</td>\n",
       "      <td>1</td>\n",
       "      <td>Poor Little Fool</td>\n",
       "      <td>Ricky Nelson</td>\n",
       "      <td>100</td>\n",
       "    </tr>\n",
       "    <tr>\n",
       "      <th>1</th>\n",
       "      <td>1958-08-09</td>\n",
       "      <td>2</td>\n",
       "      <td>Patricia</td>\n",
       "      <td>Perez Prado And His Orchestra</td>\n",
       "      <td>198</td>\n",
       "    </tr>\n",
       "    <tr>\n",
       "      <th>2</th>\n",
       "      <td>1958-08-09</td>\n",
       "      <td>3</td>\n",
       "      <td>Splish Splash</td>\n",
       "      <td>Bobby Darin</td>\n",
       "      <td>294</td>\n",
       "    </tr>\n",
       "    <tr>\n",
       "      <th>3</th>\n",
       "      <td>1958-08-09</td>\n",
       "      <td>4</td>\n",
       "      <td>Hard Headed Woman</td>\n",
       "      <td>Elvis Presley With The Jordanaires</td>\n",
       "      <td>388</td>\n",
       "    </tr>\n",
       "    <tr>\n",
       "      <th>4</th>\n",
       "      <td>1958-08-09</td>\n",
       "      <td>5</td>\n",
       "      <td>When</td>\n",
       "      <td>Kalin Twins</td>\n",
       "      <td>480</td>\n",
       "    </tr>\n",
       "  </tbody>\n",
       "</table>\n",
       "</div>"
      ],
      "text/plain": [
       "        date  position               song                              artist  \\\n",
       "0 1958-08-09         1   Poor Little Fool                        Ricky Nelson   \n",
       "1 1958-08-09         2           Patricia       Perez Prado And His Orchestra   \n",
       "2 1958-08-09         3      Splish Splash                         Bobby Darin   \n",
       "3 1958-08-09         4  Hard Headed Woman  Elvis Presley With The Jordanaires   \n",
       "4 1958-08-09         5               When                         Kalin Twins   \n",
       "\n",
       "   weighted_position  \n",
       "0                100  \n",
       "1                198  \n",
       "2                294  \n",
       "3                388  \n",
       "4                480  "
      ]
     },
     "execution_count": 56,
     "metadata": {},
     "output_type": "execute_result"
    }
   ],
   "source": [
    "hot58_70.head()"
   ]
  },
  {
   "cell_type": "code",
   "execution_count": null,
   "metadata": {
    "collapsed": true
   },
   "outputs": [],
   "source": []
  },
  {
   "cell_type": "code",
   "execution_count": 42,
   "metadata": {
    "collapsed": true
   },
   "outputs": [],
   "source": [
    "dd = dd.assign(score = (dd['sum'] + dd['count']))"
   ]
  },
  {
   "cell_type": "code",
   "execution_count": 48,
   "metadata": {
    "collapsed": true,
    "scrolled": true
   },
   "outputs": [],
   "source": [
    "dd.sort_values(['sum','count'],ascending = [False,False],inplace = True)"
   ]
  },
  {
   "cell_type": "code",
   "execution_count": 49,
   "metadata": {},
   "outputs": [
    {
     "data": {
      "text/html": [
       "<div>\n",
       "<style>\n",
       "    .dataframe thead tr:only-child th {\n",
       "        text-align: right;\n",
       "    }\n",
       "\n",
       "    .dataframe thead th {\n",
       "        text-align: left;\n",
       "    }\n",
       "\n",
       "    .dataframe tbody tr th {\n",
       "        vertical-align: top;\n",
       "    }\n",
       "</style>\n",
       "<table border=\"1\" class=\"dataframe\">\n",
       "  <thead>\n",
       "    <tr style=\"text-align: right;\">\n",
       "      <th></th>\n",
       "      <th>song</th>\n",
       "      <th>artist</th>\n",
       "      <th>sum</th>\n",
       "      <th>count</th>\n",
       "      <th>score</th>\n",
       "    </tr>\n",
       "  </thead>\n",
       "  <tbody>\n",
       "    <tr>\n",
       "      <th>18812</th>\n",
       "      <td>Sail</td>\n",
       "      <td>AWOLNATION</td>\n",
       "      <td>152556</td>\n",
       "      <td>79</td>\n",
       "      <td>152635</td>\n",
       "    </tr>\n",
       "    <tr>\n",
       "      <th>11190</th>\n",
       "      <td>I'm Yours</td>\n",
       "      <td>Jason Mraz</td>\n",
       "      <td>129804</td>\n",
       "      <td>76</td>\n",
       "      <td>129880</td>\n",
       "    </tr>\n",
       "    <tr>\n",
       "      <th>17926</th>\n",
       "      <td>Radioactive</td>\n",
       "      <td>Imagine Dragons</td>\n",
       "      <td>126670</td>\n",
       "      <td>87</td>\n",
       "      <td>126757</td>\n",
       "    </tr>\n",
       "    <tr>\n",
       "      <th>2272</th>\n",
       "      <td>Before He Cheats</td>\n",
       "      <td>Carrie Underwood</td>\n",
       "      <td>118936</td>\n",
       "      <td>64</td>\n",
       "      <td>119000</td>\n",
       "    </tr>\n",
       "    <tr>\n",
       "      <th>25164</th>\n",
       "      <td>What Hurts The Most</td>\n",
       "      <td>Rascal Flatts</td>\n",
       "      <td>112100</td>\n",
       "      <td>51</td>\n",
       "      <td>112151</td>\n",
       "    </tr>\n",
       "  </tbody>\n",
       "</table>\n",
       "</div>"
      ],
      "text/plain": [
       "                      song            artist     sum  count   score\n",
       "18812                 Sail        AWOLNATION  152556     79  152635\n",
       "11190            I'm Yours        Jason Mraz  129804     76  129880\n",
       "17926          Radioactive   Imagine Dragons  126670     87  126757\n",
       "2272      Before He Cheats  Carrie Underwood  118936     64  119000\n",
       "25164  What Hurts The Most     Rascal Flatts  112100     51  112151"
      ]
     },
     "execution_count": 49,
     "metadata": {},
     "output_type": "execute_result"
    }
   ],
   "source": [
    "dd.head()"
   ]
  },
  {
   "cell_type": "markdown",
   "metadata": {
    "collapsed": true
   },
   "source": [
    "### Preparing genres of tracks"
   ]
  },
  {
   "cell_type": "code",
   "execution_count": 58,
   "metadata": {},
   "outputs": [
    {
     "name": "stdout",
     "output_type": "stream",
     "text": [
      "tracks col :  Index(['id', 'title', 'release_date', 'lastfm_playcount', 'lastfm_listeners'], dtype='object')\n",
      "genres col :  Index(['genre_id', '#tracks', 'parent', 'title', 'top_level'], dtype='object')\n"
     ]
    }
   ],
   "source": [
    "print(\"tracks col : \",tracks.columns)\n",
    "print(\"genres col : \",genres.columns)"
   ]
  },
  {
   "cell_type": "code",
   "execution_count": 67,
   "metadata": {},
   "outputs": [
    {
     "data": {
      "text/html": [
       "<div>\n",
       "<style>\n",
       "    .dataframe thead tr:only-child th {\n",
       "        text-align: right;\n",
       "    }\n",
       "\n",
       "    .dataframe thead th {\n",
       "        text-align: left;\n",
       "    }\n",
       "\n",
       "    .dataframe tbody tr th {\n",
       "        vertical-align: top;\n",
       "    }\n",
       "</style>\n",
       "<table border=\"1\" class=\"dataframe\">\n",
       "  <thead>\n",
       "    <tr style=\"text-align: right;\">\n",
       "      <th></th>\n",
       "      <th>track_id</th>\n",
       "      <th>genres</th>\n",
       "    </tr>\n",
       "  </thead>\n",
       "  <tbody>\n",
       "    <tr>\n",
       "      <th>0</th>\n",
       "      <td>8693</td>\n",
       "      <td>Avant-Garde</td>\n",
       "    </tr>\n",
       "    <tr>\n",
       "      <th>1</th>\n",
       "      <td>5271</td>\n",
       "      <td>International</td>\n",
       "    </tr>\n",
       "    <tr>\n",
       "      <th>2</th>\n",
       "      <td>1752</td>\n",
       "      <td>Blues</td>\n",
       "    </tr>\n",
       "    <tr>\n",
       "      <th>3</th>\n",
       "      <td>4126</td>\n",
       "      <td>Jazz</td>\n",
       "    </tr>\n",
       "    <tr>\n",
       "      <th>4</th>\n",
       "      <td>4106</td>\n",
       "      <td>Classical</td>\n",
       "    </tr>\n",
       "    <tr>\n",
       "      <th>5</th>\n",
       "      <td>914</td>\n",
       "      <td>Novelty</td>\n",
       "    </tr>\n",
       "    <tr>\n",
       "      <th>6</th>\n",
       "      <td>217</td>\n",
       "      <td>Comedy</td>\n",
       "    </tr>\n",
       "    <tr>\n",
       "      <th>7</th>\n",
       "      <td>868</td>\n",
       "      <td>Old-Time / Historic</td>\n",
       "    </tr>\n",
       "    <tr>\n",
       "      <th>8</th>\n",
       "      <td>1987</td>\n",
       "      <td>Country</td>\n",
       "    </tr>\n",
       "    <tr>\n",
       "      <th>9</th>\n",
       "      <td>13845</td>\n",
       "      <td>Pop</td>\n",
       "    </tr>\n",
       "  </tbody>\n",
       "</table>\n",
       "</div>"
      ],
      "text/plain": [
       "   track_id               genres\n",
       "0      8693          Avant-Garde\n",
       "1      5271        International\n",
       "2      1752                Blues\n",
       "3      4126                 Jazz\n",
       "4      4106            Classical\n",
       "5       914              Novelty\n",
       "6       217               Comedy\n",
       "7       868  Old-Time / Historic\n",
       "8      1987              Country\n",
       "9     13845                  Pop"
      ]
     },
     "execution_count": 67,
     "metadata": {},
     "output_type": "execute_result"
    }
   ],
   "source": [
    "genres.head(10)"
   ]
  },
  {
   "cell_type": "code",
   "execution_count": 59,
   "metadata": {},
   "outputs": [],
   "source": [
    "genres.columns = ['genre_id', 'track_id', 'parent', 'genres', 'top_level']\n",
    "genres.drop(['genre_id','parent','top_level'], axis = 1, inplace = True)\n"
   ]
  },
  {
   "cell_type": "code",
   "execution_count": 66,
   "metadata": {},
   "outputs": [
    {
     "name": "stdout",
     "output_type": "stream",
     "text": [
      "df_tmp_track shape :  (23385, 2)\n",
      "genres :  (163, 2)\n"
     ]
    }
   ],
   "source": [
    "df_track_tmp = tracks\n",
    "print(\"df_tmp_track shape : \" ,df_track_tmp.shape)\n",
    "print(\"genres : \" ,genres.shape)"
   ]
  },
  {
   "cell_type": "code",
   "execution_count": 52,
   "metadata": {
    "collapsed": true
   },
   "outputs": [],
   "source": [
    "#df_track_tmp['release_date'] = pd.to_datetime(df_track_tmp['release_date'], errors='coerce')\n",
    "#df_track_tmp = df_track_tmp[(df_track_tmp['release_date'] > '1958-01-01') &(df_track_tmp['release_date'] < '1970-12-31')]"
   ]
  },
  {
   "cell_type": "code",
   "execution_count": 55,
   "metadata": {},
   "outputs": [
    {
     "data": {
      "text/plain": [
       "(4, 5)"
      ]
     },
     "execution_count": 55,
     "metadata": {},
     "output_type": "execute_result"
    }
   ],
   "source": [
    "#df_track_tmp.shape"
   ]
  },
  {
   "cell_type": "code",
   "execution_count": 61,
   "metadata": {},
   "outputs": [],
   "source": [
    "df_track_tmp.drop(['release_date', 'lastfm_playcount', 'lastfm_listeners'],axis = 1, inplace = True)\n",
    "df_track_tmp.columns = ['track_id','title']"
   ]
  },
  {
   "cell_type": "code",
   "execution_count": 62,
   "metadata": {},
   "outputs": [],
   "source": [
    "track_genres = pd.merge(genres,df_track_tmp,how='inner',on=['track_id'])\n"
   ]
  },
  {
   "cell_type": "code",
   "execution_count": 63,
   "metadata": {},
   "outputs": [],
   "source": [
    "track_genres.drop(['track_id'], axis = 1, inplace = True)"
   ]
  },
  {
   "cell_type": "code",
   "execution_count": 65,
   "metadata": {},
   "outputs": [
    {
     "data": {
      "text/plain": [
       "(158, 2)"
      ]
     },
     "execution_count": 65,
     "metadata": {},
     "output_type": "execute_result"
    }
   ],
   "source": [
    "track_genres.shape"
   ]
  },
  {
   "cell_type": "code",
   "execution_count": 72,
   "metadata": {},
   "outputs": [
    {
     "name": "stdout",
     "output_type": "stream",
     "text": [
      "No\n"
     ]
    }
   ],
   "source": [
    "if 'genres' in echonest_tmp.columns:\n",
    "    print(\"yes\")\n",
    "else:\n",
    "    print(\"No\")"
   ]
  },
  {
   "cell_type": "code",
   "execution_count": 73,
   "metadata": {},
   "outputs": [
    {
     "name": "stdout",
     "output_type": "stream",
     "text": [
      "No\n"
     ]
    }
   ],
   "source": [
    "if 'genare' in echonest_tmp.columns:\n",
    "    print(\"yes\")\n",
    "else:\n",
    "    print(\"No\")"
   ]
  },
  {
   "cell_type": "code",
   "execution_count": null,
   "metadata": {
    "collapsed": true
   },
   "outputs": [],
   "source": []
  }
 ],
 "metadata": {
  "kernelspec": {
   "display_name": "Python 3",
   "language": "python",
   "name": "python3"
  },
  "language_info": {
   "codemirror_mode": {
    "name": "ipython",
    "version": 3
   },
   "file_extension": ".py",
   "mimetype": "text/x-python",
   "name": "python",
   "nbconvert_exporter": "python",
   "pygments_lexer": "ipython3",
   "version": "3.6.1"
  }
 },
 "nbformat": 4,
 "nbformat_minor": 2
}
